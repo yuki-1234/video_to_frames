{
 "cells": [
  {
   "cell_type": "code",
   "execution_count": null,
   "id": "0d98b4e9",
   "metadata": {},
   "outputs": [],
   "source": [
    "#pip install opencv-python"
   ]
  },
  {
   "cell_type": "code",
   "execution_count": 17,
   "id": "f8e6f96c",
   "metadata": {
    "scrolled": true
   },
   "outputs": [
    {
     "name": "stdout",
     "output_type": "stream",
     "text": [
      "Python version : 3.8.8\n",
      "cv2 version : 4.5.4-dev\n"
     ]
    }
   ],
   "source": [
    "import cv2\n",
    "from platform import python_version\n",
    "print(\"Python version : \" + python_version())\n",
    "print(\"cv2 version : \" + cv2.__version__)"
   ]
  },
  {
   "cell_type": "code",
   "execution_count": 15,
   "id": "1719ed69",
   "metadata": {},
   "outputs": [],
   "source": [
    "import os\n",
    "import cv2\n",
    "from glob import glob\n",
    "\n",
    "#write path where your videos locate\n",
    "dir_name = \"/***/video_folder\"\n",
    "\n",
    "for video_path in glob(dir_name + '/*.mp4'):\n",
    "\n",
    "    cap = cv2.VideoCapture(video_path)\n",
    "    \n",
    "    #make a folder in the same folder with  its video name \n",
    "    #video_path[:-4]  is a folder name where devided frames are saved\n",
    "    folder_path = video_path[:-4]\n",
    "    if not os.path.isdir(folder_path):\n",
    "            os.makedirs(folder_path)\n",
    "\n",
    "    num = 0\n",
    "    video_name =  \"/\" + os.path.basename(video_path)[:-4] + \"_\"\n",
    "    \n",
    "    while(cap.isOpened()):\n",
    "        ret, frame = cap.read()\n",
    "        if ret == True:\n",
    "            # save image from frame000\n",
    "            cv2.imwrite(folder_path + video_name + \"{:0=3}\".format(num)+\".jpg\",frame)       \n",
    "            num += 1\n",
    "        else:\n",
    "            break\n",
    "\n",
    "    cap.release()"
   ]
  }
 ],
 "metadata": {
  "kernelspec": {
   "display_name": "Python 3",
   "language": "python",
   "name": "python3"
  },
  "language_info": {
   "codemirror_mode": {
    "name": "ipython",
    "version": 3
   },
   "file_extension": ".py",
   "mimetype": "text/x-python",
   "name": "python",
   "nbconvert_exporter": "python",
   "pygments_lexer": "ipython3",
   "version": "3.8.8"
  }
 },
 "nbformat": 4,
 "nbformat_minor": 5
}
